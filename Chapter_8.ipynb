{
 "cells": [
  {
   "cell_type": "markdown",
   "metadata": {},
   "source": [
    "Exercise 1:\n",
    "\n",
    "Write a function called chop that takes a list and modifies it, removing the first and last elements, and returns None.\n",
    "\n",
    "Then write a function called middle that takes a list and returns a new list that contains all but the first and last elements."
   ]
  },
  {
   "cell_type": "code",
   "execution_count": 12,
   "metadata": {},
   "outputs": [
    {
     "name": "stdout",
     "output_type": "stream",
     "text": [
      "['u', 'c', 'k', 's', 'k']\n",
      "['o', 'd', 'l', 'i', 'k']\n"
     ]
    }
   ],
   "source": [
    "def chop(t):\n",
    "    del t[0]\n",
    "    del t[len(t)-1]\n",
    "    return None\n",
    "def middle(t):\n",
    "    del t[0]\n",
    "    del t[len(t)-1]\n",
    "    return t\n",
    "t1=list('Fucksky')\n",
    "t2=list('Godlike')\n",
    "chop(t1)\n",
    "print(t1)\n",
    "t2=middle(t2)\n",
    "print(t2)"
   ]
  },
  {
   "cell_type": "markdown",
   "metadata": {},
   "source": [
    "Exercise 4: Download a copy of the file from www.py4e.com/code3/romeo.txt\n",
    "\n",
    "Write a program to open the file romeo.txt and read it line by line. For each line, split the line into a list of words using the split function.\n",
    "\n",
    "For each word, check to see if the word is already in a list. If the word is not in the list, add it to the list.\n",
    "\n",
    "When the program completes, sort and print the resulting words in alphabetical order.\n",
    "\n",
    "Enter file: romeo.txt\n",
    "['Arise', 'But', 'It', 'Juliet', 'Who', 'already',\n",
    "'and', 'breaks', 'east', 'envious', 'fair', 'grief',\n",
    "'is', 'kill', 'light', 'moon', 'pale', 'sick', 'soft',\n",
    "'sun', 'the', 'through', 'what', 'window',\n",
    "'with', 'yonder']"
   ]
  },
  {
   "cell_type": "code",
   "execution_count": 28,
   "metadata": {},
   "outputs": [
    {
     "name": "stdout",
     "output_type": "stream",
     "text": [
      "Enter file name:D:\\python_code\\romeo.txt\n",
      "['Arise', 'But', 'It', 'Juliet', 'Who', 'already', 'and', 'breaks', 'east', 'envious', 'fair', 'grief', 'is', 'kill', 'light', 'moon', 'pale', 'sick', 'soft', 'sun', 'the', 'through', 'what', 'window', 'with', 'yonder']\n"
     ]
    }
   ],
   "source": [
    "fname=input('Enter file name:')\n",
    "fhand=open(fname)\n",
    "t=[]\n",
    "for line in fhand:\n",
    "    words=line.split()\n",
    "    for word in words:\n",
    "        if word in t:\n",
    "            continue\n",
    "        else:\n",
    "            t=t+[word]\n",
    "t.sort()\n",
    "print(t)"
   ]
  },
  {
   "cell_type": "markdown",
   "metadata": {},
   "source": [
    "Exercise 5: Write a program to read through the mail box data and when you find line that starts with \"From\", you will split the line into words using the split function. We are interested in who sent the message, which is the second word on the From line.\n",
    "\n",
    "From stephen.marquard@uct.ac.za Sat Jan 5 09:14:16 2008\n",
    "\n",
    "You will parse the From line and print out the second word for each From line, then you will also count the number of From (not From:) lines and print out a count at the end.\n",
    "\n",
    "This is a good sample output with a few lines removed:\n",
    "\n",
    "python fromcount.py\n",
    "Enter a file name: mbox-short.txt\n",
    "stephen.marquard@uct.ac.za\n",
    "louis@media.berkeley.edu\n",
    "zqian@umich.edu\n",
    "\n",
    "[...some output removed...]\n",
    "\n",
    "ray@media.berkeley.edu\n",
    "cwen@iupui.edu\n",
    "cwen@iupui.edu\n",
    "cwen@iupui.edu\n",
    "There were 27 lines in the file with From as the first word"
   ]
  },
  {
   "cell_type": "code",
   "execution_count": 24,
   "metadata": {},
   "outputs": [
    {
     "name": "stdout",
     "output_type": "stream",
     "text": [
      "Enter a file name:D:\\python_code\\mbox-short.txt\n",
      "stephen.marquard@uct.ac.za\n",
      "louis@media.berkeley.edu\n",
      "zqian@umich.edu\n",
      "rjlowe@iupui.edu\n",
      "zqian@umich.edu\n",
      "rjlowe@iupui.edu\n",
      "cwen@iupui.edu\n",
      "cwen@iupui.edu\n",
      "gsilver@umich.edu\n",
      "gsilver@umich.edu\n",
      "zqian@umich.edu\n",
      "gsilver@umich.edu\n",
      "wagnermr@iupui.edu\n",
      "zqian@umich.edu\n",
      "antranig@caret.cam.ac.uk\n",
      "gopal.ramasammycook@gmail.com\n",
      "david.horwitz@uct.ac.za\n",
      "david.horwitz@uct.ac.za\n",
      "david.horwitz@uct.ac.za\n",
      "david.horwitz@uct.ac.za\n",
      "stephen.marquard@uct.ac.za\n",
      "louis@media.berkeley.edu\n",
      "louis@media.berkeley.edu\n",
      "ray@media.berkeley.edu\n",
      "cwen@iupui.edu\n",
      "cwen@iupui.edu\n",
      "cwen@iupui.edu\n",
      "There were 27 lines in the file with From as the first word\n"
     ]
    }
   ],
   "source": [
    "fname=input('Enter a file name:')\n",
    "fhand=open(fname)\n",
    "count=0\n",
    "for line in fhand:\n",
    "    words=line.split()\n",
    "    if len(words)==0:\n",
    "        continue\n",
    "    elif words[0]!='From':\n",
    "        continue\n",
    "    else:\n",
    "        count=count+1\n",
    "        print(words[1])\n",
    "print('There were',count,'lines in the file with From as the first word')"
   ]
  },
  {
   "cell_type": "markdown",
   "metadata": {},
   "source": [
    "Exercise 6: Rewrite the program that prompts the user for a list of numbers and prints out the maximum and minimum of the numbers at the end when the user enters \"done\". Write the program to store the numbers the user enters in a list and use the max() and min() functions to compute the maximum and minimum numbers after the loop completes.\n",
    "\n",
    "Enter a number: 6\n",
    "Enter a number: 2\n",
    "Enter a number: 9\n",
    "Enter a number: 3\n",
    "Enter a number: 5\n",
    "Enter a number: done\n",
    "Maximum: 9.0\n",
    "Minimum: 2.0\n"
   ]
  },
  {
   "cell_type": "code",
   "execution_count": 27,
   "metadata": {},
   "outputs": [
    {
     "name": "stdout",
     "output_type": "stream",
     "text": [
      "Enter a number:15\n",
      "Enter a number:26\n",
      "Enter a number:45\n",
      "Enter a number:11\n",
      "Enter a number:done\n",
      "Maximum: 45\n",
      "Minimum: 11\n"
     ]
    }
   ],
   "source": [
    "t=[]\n",
    "while True:\n",
    "    x=input('Enter a number:')\n",
    "    if x=='done':\n",
    "        break\n",
    "    else:\n",
    "        x=int(x)\n",
    "        t=t+[x]\n",
    "print('Maximum:',max(t))\n",
    "print('Minimum:',min(t))\n"
   ]
  }
 ],
 "metadata": {
  "kernelspec": {
   "display_name": "Python 3",
   "language": "python",
   "name": "python3"
  },
  "language_info": {
   "codemirror_mode": {
    "name": "ipython",
    "version": 3
   },
   "file_extension": ".py",
   "mimetype": "text/x-python",
   "name": "python",
   "nbconvert_exporter": "python",
   "pygments_lexer": "ipython3",
   "version": "3.6.3"
  }
 },
 "nbformat": 4,
 "nbformat_minor": 2
}
