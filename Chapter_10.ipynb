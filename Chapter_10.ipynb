{
 "cells": [
  {
   "cell_type": "markdown",
   "metadata": {},
   "source": [
    "Exercise 1: Revise a previous program as follows: Read and parse the \"From\" lines and pull out the addresses from the line. Count the number of messages from each person using a dictionary.\n",
    "\n",
    "After all the data has been read, print the person with the most commits by creating a list of (count, email) tuples from the dictionary. Then sort the list in reverse order and print out the person who has the most commits.\n",
    "\n",
    "Sample Line:\n",
    "From stephen.marquard@uct.ac.za Sat Jan  5 09:14:16 2008\n",
    "\n",
    "Enter a file name: mbox-short.txt\n",
    "cwen@iupui.edu 5\n",
    "\n",
    "Enter a file name: mbox.txt\n",
    "zqian@umich.edu 195"
   ]
  },
  {
   "cell_type": "code",
   "execution_count": 12,
   "metadata": {},
   "outputs": [
    {
     "name": "stdout",
     "output_type": "stream",
     "text": [
      "Enter a file name:D:\\python_code\\mbox-short.txt\n",
      "cwen@iupui.edu 5\n"
     ]
    }
   ],
   "source": [
    "fname=input('Enter a file name:')\n",
    "fhand=open(fname)\n",
    "mess_each=dict()\n",
    "for line in fhand:\n",
    "    words=line.split()\n",
    "    if len(words)==0:\n",
    "        continue\n",
    "    elif words[0]!='From':\n",
    "        continue\n",
    "    else:\n",
    "        mess_each[words[1]]=mess_each.get(words[1],0)+1\n",
    "new_mess=dict(zip(mess_each.values(),mess_each.keys()))    ### exchange key-value pair to generate a new dictionary\n",
    "t=list(new_mess.items())\n",
    "t.sort(reverse=True)\n",
    "print(t[0][1],t[0][0])"
   ]
  },
  {
   "cell_type": "markdown",
   "metadata": {},
   "source": [
    "Exercise 2: This program counts the distribution of the hour of the day for each of the messages. You can pull the hour from the \"From\" line by finding the time string and then splitting that string into parts using the colon character. Once you have accumulated the counts for each hour, print out the counts, one per line, sorted by hour as shown below.\n",
    "\n",
    "Sample Execution:\n",
    "\n",
    "python timeofday.py\n",
    "Enter a file name: mbox-short.txt\n",
    "04 3\n",
    "06 1\n",
    "07 1\n",
    "09 2\n",
    "10 3\n",
    "11 6\n",
    "14 1\n",
    "15 2\n",
    "16 4\n",
    "17 2\n",
    "18 1\n",
    "19 1"
   ]
  },
  {
   "cell_type": "code",
   "execution_count": 21,
   "metadata": {},
   "outputs": [
    {
     "name": "stdout",
     "output_type": "stream",
     "text": [
      "Enter a file name:D:\\python_code\\mbox-short.txt\n",
      "04 3\n",
      "06 1\n",
      "07 1\n",
      "09 2\n",
      "10 3\n",
      "11 6\n",
      "14 1\n",
      "15 2\n",
      "16 4\n",
      "17 2\n",
      "18 1\n",
      "19 1\n"
     ]
    }
   ],
   "source": [
    "fname=input('Enter a file name:')\n",
    "fhand=open(fname)\n",
    "mess_each=dict()\n",
    "for line in fhand:\n",
    "    words=line.split()\n",
    "    if len(words)==0:\n",
    "        continue\n",
    "    elif words[0]!='From':\n",
    "        continue\n",
    "    else:\n",
    "        woo=words[5].split(':')\n",
    "        mess_each[woo[0]]=mess_each.get(woo[0],0)+1\n",
    "t=list(mess_each.items())\n",
    "t.sort()\n",
    "for (i,j) in t:\n",
    "    print(i,j)"
   ]
  }
 ],
 "metadata": {
  "kernelspec": {
   "display_name": "Python 3",
   "language": "python",
   "name": "python3"
  },
  "language_info": {
   "codemirror_mode": {
    "name": "ipython",
    "version": 3
   },
   "file_extension": ".py",
   "mimetype": "text/x-python",
   "name": "python",
   "nbconvert_exporter": "python",
   "pygments_lexer": "ipython3",
   "version": "3.6.3"
  }
 },
 "nbformat": 4,
 "nbformat_minor": 2
}
