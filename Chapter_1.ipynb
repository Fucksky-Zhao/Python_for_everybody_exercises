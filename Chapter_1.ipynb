{
 "cells": [
  {
   "cell_type": "markdown",
   "metadata": {},
   "source": [
    "Exercise 1: What is the function of the secondary memory in a computer?\n",
    "\n",
    "a) Execute all of the computation and logic of the program\n",
    "b) Retrieve web pages over the Internet\n",
    "c) Store information for the long term, even beyond a power cycle\n",
    "d) Take input from the user\n",
    "\n",
    "Solution: c)\n",
    "Secondary memory is used to store information no matter the computer is closed or not.\n",
    "\n",
    "Exercise 2: What is a program?\n",
    "\n",
    "Solution: The stored instructions expected to be executed by CPU(answer the problem \"What's next?\") is called a program.\n",
    "\n",
    "Exercise 3: What is the difference between a compiler and an interpreter?\n",
    "\n",
    "Solution: Regardless of the fact that compiler needs to be handed the entire program in a file, but interpreter takes programs line by line.\n",
    "The essential difference is that compiler generates binary code(machine code), but interperter does not, it just converts into another type\n",
    "of language.\n",
    "#Python interpreter compiles .py files to .pyc files, which consists of bytecode, then python interpreters the bytecode.\n",
    "\n",
    "Exercise 4: Which of the following contains \"machine code\"?\n",
    "\n",
    "a) The Python interpreter\n",
    "b) The keyboard\n",
    "c) Python source file\n",
    "d) A word processing document\n",
    "\n",
    "Solution: a)\n",
    "\n",
    "Exercise 5: What is wrong with the following code:\n",
    "\n",
    "    >>> primt 'Hello world!'\n",
    "      File \"<stdin>\", line 1\n",
    "        primt 'Hello world!'\n",
    "                           ^\n",
    "    SyntaxError: invalid syntax\n",
    "    >>>\n",
    "Solution:"
   ]
  },
  {
   "cell_type": "code",
   "execution_count": 1,
   "metadata": {},
   "outputs": [
    {
     "name": "stdout",
     "output_type": "stream",
     "text": [
      "Hello world!\n"
     ]
    }
   ],
   "source": [
    "print('Hello world!')"
   ]
  },
  {
   "cell_type": "markdown",
   "metadata": {},
   "source": [
    "Exercise 6: Where in the computer is a variable such as \"x\" stored after the following Python line finishes?\n",
    "\n",
    "    x = 123\n",
    "a) Central processing unit\n",
    "b) Main Memory\n",
    "c) Secondary Memory\n",
    "d) Input Devices\n",
    "e) Output Devices\n",
    "\n",
    "Solution: b)\n",
    "\n",
    "Exercise 7: What will the following program print out:\n",
    "\n",
    "    x = 43\n",
    "    x = x + 1\n",
    "    print(x)\n",
    "a) 43\n",
    "b) 44\n",
    "c) x + 1\n",
    "d) Error because x = x + 1 is not possible mathematically\n",
    "\n",
    "Solution: b)\n",
    "\n",
    "Exercise 8:\n",
    "Central processing unit==Brain\n",
    "Main Memory            ==Knowledge in your brain\n",
    "Secondary Memory       ==Knowledge outside you\n",
    "Input Device           ==Knowledge in textbook which you intend to learn\n",
    "Output Device          ==Knowledge you expose\n",
    "\n",
    "Exercise 9: How do you fix a \"Syntax Error\"?\n",
    "\n",
    "Solution:\n",
    "  Find the grammar rules you break and replace it with a correct one according to the interpreter.\n"
   ]
  }
 ],
 "metadata": {
  "kernelspec": {
   "display_name": "Python 3",
   "language": "python",
   "name": "python3"
  },
  "language_info": {
   "codemirror_mode": {
    "name": "ipython",
    "version": 3
   },
   "file_extension": ".py",
   "mimetype": "text/x-python",
   "name": "python",
   "nbconvert_exporter": "python",
   "pygments_lexer": "ipython3",
   "version": "3.6.3"
  }
 },
 "nbformat": 4,
 "nbformat_minor": 2
}
