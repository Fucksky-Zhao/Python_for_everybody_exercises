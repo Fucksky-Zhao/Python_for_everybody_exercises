{
 "cells": [
  {
   "cell_type": "markdown",
   "metadata": {},
   "source": [
    "Exercise 4: What is the purpose of the \"def\" keyword in Python?\n",
    "\n",
    "a) It is slang that means \"the following code is really cool\"\n",
    "b) It indicates the start of a function\n",
    "c) It indicates that the following indented section of code is to be stored for later\n",
    "d) b and c are both true\n",
    "e) None of the above\n",
    "\n",
    "Solution: d)"
   ]
  },
  {
   "cell_type": "markdown",
   "metadata": {},
   "source": [
    "Exercise 5: What will the following Python program print out?\n",
    "\n",
    "def fred():\n",
    "   print(\"Zap\")\n",
    "\n",
    "def jane():\n",
    "   print(\"ABC\")\n",
    "\n",
    "jane()\n",
    "fred()\n",
    "jane()\n",
    "a) Zap ABC jane fred jane\n",
    "b) Zap ABC Zap\n",
    "c) ABC Zap jane\n",
    "d) ABC Zap ABC\n",
    "e) Zap Zap Zap\n",
    "\n",
    "Solution: d)"
   ]
  },
  {
   "cell_type": "markdown",
   "metadata": {},
   "source": [
    "Exercise 6: Rewrite your pay computation with time-and-a-half for overtime and create a function called computepay which takes two parameters (hours and rate).\n",
    "\n",
    "Enter Hours: 45\n",
    "Enter Rate: 10\n",
    "Pay: 475.0"
   ]
  },
  {
   "cell_type": "code",
   "execution_count": 14,
   "metadata": {},
   "outputs": [
    {
     "name": "stdout",
     "output_type": "stream",
     "text": [
      "Enter Hours:45\n",
      "Enter Rate:10\n",
      "Pay 475.0\n"
     ]
    }
   ],
   "source": [
    "def computepay(hours,rate):\n",
    "    if hours>40.0:\n",
    "        print('Pay',(hours-40)*rate*1.5+40*rate)\n",
    "    else:    \n",
    "        print('Pay',hours*rate)\n",
    "hours=input('Enter Hours:')\n",
    "try:\n",
    "    hours=float(hours)\n",
    "    rate=input('Enter Rate:')\n",
    "    rate=float(rate)\n",
    "    computepay(hours,rate)\n",
    "except:\n",
    "    print('Invalid Input')"
   ]
  },
  {
   "cell_type": "markdown",
   "metadata": {},
   "source": [
    "Exercise 7: Rewrite the grade program from the previous chapter using a function called computegrade that takes a score as its parameter and returns a grade as a string.\n",
    "\n",
    "Score   Grade\n",
    "> 0.9     A\n",
    "> 0.8     B\n",
    "> 0.7     C\n",
    "> 0.6     D\n",
    "<= 0.6    F\n",
    "Program Execution:\n",
    "Enter score: 0.95\n",
    "A\n",
    "Enter score: perfect\n",
    "Bad score\n",
    "Enter score: 10.0\n",
    "Bad score\n",
    "Enter score: 0.75\n",
    "C\n",
    "Enter score: 0.5\n",
    "F\n",
    "Run the program repeatedly to test the various different values for input."
   ]
  },
  {
   "cell_type": "code",
   "execution_count": 18,
   "metadata": {},
   "outputs": [
    {
     "name": "stdout",
     "output_type": "stream",
     "text": [
      "Enter Score:four\n",
      "Bad score\n"
     ]
    }
   ],
   "source": [
    "def computegrade(score):\n",
    "    if score>1.0 or score<0.0:\n",
    "        print('Bad score')\n",
    "    elif score>0.9:\n",
    "        print('A')\n",
    "    elif score>0.8:\n",
    "        print('B')\n",
    "    elif score>0.7:\n",
    "        print('C')\n",
    "    elif score>0.6:\n",
    "        print('D')\n",
    "    else: \n",
    "        print('F')\n",
    "score=input('Enter Score:')\n",
    "try:\n",
    "    score=float(score)\n",
    "    computegrade(score)\n",
    "except:\n",
    "    print('Bad score')"
   ]
  }
 ],
 "metadata": {
  "kernelspec": {
   "display_name": "Python 3",
   "language": "python",
   "name": "python3"
  },
  "language_info": {
   "codemirror_mode": {
    "name": "ipython",
    "version": 3
   },
   "file_extension": ".py",
   "mimetype": "text/x-python",
   "name": "python",
   "nbconvert_exporter": "python",
   "pygments_lexer": "ipython3",
   "version": "3.6.3"
  }
 },
 "nbformat": 4,
 "nbformat_minor": 2
}
