{
 "cells": [
  {
   "cell_type": "markdown",
   "metadata": {},
   "source": [
    "Exercise 1: Rewrite your pay computation to give the employee 1.5 times the hourly rate for hours worked above 40 hours.\n",
    "\n",
    "Enter Hours: 45\n",
    "Enter Rate: 10\n",
    "Pay: 475.0"
   ]
  },
  {
   "cell_type": "code",
   "execution_count": 2,
   "metadata": {},
   "outputs": [
    {
     "name": "stdout",
     "output_type": "stream",
     "text": [
      "Enter Hours:20\n",
      "Enter Rate:12\n",
      "Pay: 240.0\n"
     ]
    }
   ],
   "source": [
    "hours=input('Enter Hours:')\n",
    "rate=input('Enter Rate:')\n",
    "hours=float(hours)\n",
    "rate=float(rate)\n",
    "if hours>40:\n",
    "    print('Pay:',(hours-40)*rate)\n",
    "else:\n",
    "    print('Pay:',hours*rate)"
   ]
  },
  {
   "cell_type": "markdown",
   "metadata": {},
   "source": [
    "Exercise 2: Rewrite your pay program using try and except so that your program handles non-numeric input gracefully by printing a message and exiting the program. The following shows two executions of the program:\n",
    "\n",
    "Enter Hours: 20\n",
    "Enter Rate: nine\n",
    "Error, please enter numeric input\n",
    "Enter Hours: forty\n",
    "Error, please enter numeric input"
   ]
  },
  {
   "cell_type": "code",
   "execution_count": 7,
   "metadata": {},
   "outputs": [
    {
     "name": "stdout",
     "output_type": "stream",
     "text": [
      "Enter Hours:forty\n",
      "Error,please enter numeric input\n"
     ]
    }
   ],
   "source": [
    "hours=input('Enter Hours:')\n",
    "try:\n",
    "    hours=float(hours)\n",
    "    rate=input('Enter Rate:')\n",
    "    rate=float(rate)\n",
    "    if hours>40:\n",
    "        print('Pay:',(hours-40)*rate)\n",
    "    else:\n",
    "        print('Pay:',hours*rate)\n",
    "except:\n",
    "    print('Error,please enter numeric input')"
   ]
  },
  {
   "cell_type": "markdown",
   "metadata": {},
   "source": [
    "Exercise 3: Write a program to prompt for a score between 0.0 and 1.0. If the score is out of range, print an error message. If the score is between 0.0 and 1.0, print a grade using the following table:\n",
    "\n",
    "Score   Grade\n",
    ">= 0.9     A\n",
    ">= 0.8     B\n",
    ">= 0.7     C\n",
    ">= 0.6     D\n",
    "< 0.6    F\n",
    "Enter score: 0.95\n",
    "A\n",
    "Enter score: perfect\n",
    "Bad score\n",
    "Enter score: 10.0\n",
    "Bad score\n",
    "Enter score: 0.75\n",
    "C\n",
    "Enter score: 0.5\n",
    "F\n",
    "Run the program repeatedly as shown above to test the various different values for input."
   ]
  },
  {
   "cell_type": "code",
   "execution_count": 4,
   "metadata": {},
   "outputs": [
    {
     "name": "stdout",
     "output_type": "stream",
     "text": [
      "Enter score:0.59\n",
      "F\n"
     ]
    }
   ],
   "source": [
    "score=input('Enter score:')\n",
    "try:\n",
    "    score=float(score)\n",
    "    if score>1.0 or score<0.0:\n",
    "        print('Bad Score')\n",
    "    if score>=0.9:\n",
    "        print('A')\n",
    "    elif score>=0.8:\n",
    "        print('B')\n",
    "    elif score>=0.7:\n",
    "        print('C')\n",
    "    elif score>=0.6:\n",
    "        print('D')\n",
    "    else:\n",
    "        print('F')\n",
    "except:\n",
    "    print('Bad Score')"
   ]
  }
 ],
 "metadata": {
  "kernelspec": {
   "display_name": "Python 3",
   "language": "python",
   "name": "python3"
  },
  "language_info": {
   "codemirror_mode": {
    "name": "ipython",
    "version": 3
   },
   "file_extension": ".py",
   "mimetype": "text/x-python",
   "name": "python",
   "nbconvert_exporter": "python",
   "pygments_lexer": "ipython3",
   "version": "3.6.3"
  }
 },
 "nbformat": 4,
 "nbformat_minor": 2
}
