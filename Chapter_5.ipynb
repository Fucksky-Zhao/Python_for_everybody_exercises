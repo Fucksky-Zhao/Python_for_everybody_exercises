{
 "cells": [
  {
   "cell_type": "markdown",
   "metadata": {},
   "source": [
    "Exercise 1: Write a program which repeatedly reads numbers until the user enters \"done\". Once \"done\" is entered, print out the total, count, and average of the numbers. If the user enters anything other than a number, detect their mistake using try and except and print an error message and skip to the next number.\n",
    "\n",
    "Enter a number: 4\n",
    "Enter a number: 5\n",
    "Enter a number: bad data\n",
    "Invalid input\n",
    "Enter a number: 7\n",
    "Enter a number: done\n",
    "16 3 5.333333333333333"
   ]
  },
  {
   "cell_type": "code",
   "execution_count": 20,
   "metadata": {},
   "outputs": [
    {
     "name": "stdout",
     "output_type": "stream",
     "text": [
      "Enter a number:12\n",
      "Enter a number:52\n",
      "Enter a number:forty\n",
      "bad data\n",
      "Enter a number:45\n",
      "Enter a number:0\n",
      "Enter a number:done\n",
      "109 4 27.25\n"
     ]
    }
   ],
   "source": [
    "total=0\n",
    "count=0\n",
    "average=0\n",
    "while True:\n",
    "    x=input('Enter a number:')\n",
    "    if x=='done':\n",
    "        break\n",
    "    else:\n",
    "        try:\n",
    "            x=int(x)\n",
    "            total=total+x\n",
    "            count=count+1\n",
    "            average=total/count\n",
    "        except:\n",
    "            print('bad data')\n",
    "print(total,count,average)"
   ]
  },
  {
   "cell_type": "markdown",
   "metadata": {},
   "source": [
    "Exercise 2: Write another program that prompts for a list of numbers as above and at the end prints out both the maximum and minimum of the numbers instead of the average."
   ]
  },
  {
   "cell_type": "code",
   "execution_count": 22,
   "metadata": {},
   "outputs": [
    {
     "name": "stdout",
     "output_type": "stream",
     "text": [
      "52 0\n"
     ]
    }
   ],
   "source": [
    "max_num=-100\n",
    "min_num=100\n",
    "for i in [12,52,45,0]:\n",
    "    if i>max_num:\n",
    "        max_num=i\n",
    "    if i<min_num:\n",
    "        min_num=i\n",
    "print(max_num,min_num)"
   ]
  }
 ],
 "metadata": {
  "kernelspec": {
   "display_name": "Python 3",
   "language": "python",
   "name": "python3"
  },
  "language_info": {
   "codemirror_mode": {
    "name": "ipython",
    "version": 3
   },
   "file_extension": ".py",
   "mimetype": "text/x-python",
   "name": "python",
   "nbconvert_exporter": "python",
   "pygments_lexer": "ipython3",
   "version": "3.6.3"
  }
 },
 "nbformat": 4,
 "nbformat_minor": 2
}
